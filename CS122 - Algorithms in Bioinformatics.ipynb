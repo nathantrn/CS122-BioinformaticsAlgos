{
 "cells": [
  {
   "cell_type": "markdown",
   "id": "0df3afc7",
   "metadata": {},
   "source": [
    "Given a Sequence and a Pattern, count how many times the pattern occurs"
   ]
  },
  {
   "cell_type": "code",
   "execution_count": 1,
   "id": "f61e149c",
   "metadata": {},
   "outputs": [],
   "source": [
    "def PatternCount(Text, Pattern):\n",
    "    count = 0\n",
    "    for i in range(len(Text)-len(Pattern)+1):\n",
    "                   if Text[i:i+len(Pattern)] == Pattern:\n",
    "                       count = count + 1 \n",
    "    return count"
   ]
  },
  {
   "cell_type": "markdown",
   "id": "e9773bd8",
   "metadata": {},
   "source": [
    "Given a Sequence, return most frequent K-mer of length K"
   ]
  },
  {
   "cell_type": "code",
   "execution_count": 2,
   "id": "f57ad313",
   "metadata": {},
   "outputs": [],
   "source": [
    "def better_frequent_words(text, k):\n",
    "    frequent_patterns = []\n",
    "    freq_map = frequency_table(text, k)\n",
    "    max_count = max(freq_map.values())\n",
    "    for pattern, count in freq_map.items():\n",
    "        if count == max_count:\n",
    "            frequent_patterns.append(pattern)\n",
    "    return frequent_patterns"
   ]
  },
  {
   "cell_type": "code",
   "execution_count": 3,
   "id": "92891452",
   "metadata": {},
   "outputs": [],
   "source": [
    "def frequency_table(text, k):\n",
    "    freq_map = {}\n",
    "    n = len(text)\n",
    "    for i in range(n - k + 1):\n",
    "        pattern = text[i:i+k]\n",
    "        if pattern not in freq_map:\n",
    "            freq_map[pattern] = 1\n",
    "        else:\n",
    "            freq_map[pattern] += 1\n",
    "    return freq_map"
   ]
  },
  {
   "cell_type": "markdown",
   "id": "d731e3a5",
   "metadata": {},
   "source": [
    "Given a sequence, return reverse complement"
   ]
  },
  {
   "cell_type": "code",
   "execution_count": 20,
   "id": "e884d191",
   "metadata": {},
   "outputs": [],
   "source": [
    "def ReverseComplement(text):\n",
    "    string = \"\"\n",
    "    for i in range(len(text)):\n",
    "        if text[i] == 'A':\n",
    "            string = string + 'T'\n",
    "        if text[i] == 'C':\n",
    "            string = string + 'G'\n",
    "        if text[i] == 'G':\n",
    "             string = string + 'C'\n",
    "        if text[i] == 'T':\n",
    "             string = string + 'A'\n",
    "    txt = string[::-1]\n",
    "    return(txt)"
   ]
  },
  {
   "cell_type": "markdown",
   "id": "241f7e4d",
   "metadata": {},
   "source": [
    "Given a Sequence and a Pattern, return all the locations where the Pattern Occurs"
   ]
  },
  {
   "cell_type": "code",
   "execution_count": 6,
   "id": "d7b8e97a",
   "metadata": {},
   "outputs": [],
   "source": [
    "def PatternLocationOccurences(Text, Pattern):\n",
    "    string = \"\"\n",
    "    for i in range(len(Text)-len(Pattern)):\n",
    "                   if Text[i:i+len(Pattern)] == Pattern:\n",
    "                       string = string + str(i) + \" \"\n",
    "    return string"
   ]
  },
  {
   "cell_type": "markdown",
   "id": "f96a5079",
   "metadata": {},
   "source": [
    "Given a Sequence, return k-mers forming (L,t)-clumps"
   ]
  },
  {
   "cell_type": "code",
   "execution_count": 7,
   "id": "5cf60bea",
   "metadata": {},
   "outputs": [],
   "source": [
    "def FindClumps(Text, k, L, t):\n",
    "    Patterns = []\n",
    "    n = len(Text)\n",
    "    for i in range(n-L+1):\n",
    "        Window = Text[i:i+L]\n",
    "        freqMap = frequency_table(Window, k)\n",
    "        for s in freqMap:\n",
    "            if freqMap[s] >= t:\n",
    "                Patterns.append(s)\n",
    "    Patterns = list(set(Patterns))\n",
    "    return Patterns"
   ]
  },
  {
   "cell_type": "markdown",
   "id": "fe62c6e5",
   "metadata": {},
   "source": [
    "Given a Sequence, return the Skew value (difference between C and G occurences)"
   ]
  },
  {
   "cell_type": "code",
   "execution_count": 8,
   "id": "9e8fe64c",
   "metadata": {},
   "outputs": [],
   "source": [
    "def Skew(Text):\n",
    "    diff = 0\n",
    "    diff_list = []\n",
    "    diff_list.append(0)\n",
    "    for i in range(len(Text)):\n",
    "        if Text[i] == 'C':\n",
    "            diff = diff - 1\n",
    "        if Text[i] == 'G':\n",
    "            diff = diff + 1\n",
    "        diff_list.append(diff)\n",
    "    return diff_list"
   ]
  },
  {
   "cell_type": "markdown",
   "id": "6b346bf2",
   "metadata": {},
   "source": [
    "Given a Sequence, determine the points of inflection in the Skew (helps determine position of ORI)"
   ]
  },
  {
   "cell_type": "code",
   "execution_count": 10,
   "id": "690cb901",
   "metadata": {},
   "outputs": [],
   "source": [
    "def PosMinSkew(Text):\n",
    "    diff = 0\n",
    "    diff_list = []\n",
    "    diff_list.append(0)\n",
    "    for i in range(len(Text)):\n",
    "        if Text[i] == 'C':\n",
    "            diff = diff - 1\n",
    "        if Text[i] == 'G':\n",
    "            diff = diff + 1\n",
    "        diff_list.append(diff)\n",
    "    x = min(diff_list)\n",
    "    min_pos = []\n",
    "    for i in range(len(diff_list)):\n",
    "        if x == diff_list[i]:\n",
    "            min_pos.append(i)\n",
    "    return min_pos"
   ]
  },
  {
   "cell_type": "markdown",
   "id": "8706aa70",
   "metadata": {},
   "source": [
    "Given two sequences, determine Hamming Distance"
   ]
  },
  {
   "cell_type": "code",
   "execution_count": 12,
   "id": "250aa0c0",
   "metadata": {},
   "outputs": [],
   "source": [
    "def HammingDist(Text1, Text2):\n",
    "    dist = 0\n",
    "    for i in range(len(Text1)):\n",
    "        if Text1[i] != Text2[i]:\n",
    "            dist += 1\n",
    "    return dist\n",
    "        "
   ]
  },
  {
   "cell_type": "markdown",
   "id": "64ab1227",
   "metadata": {},
   "source": [
    "Find the most frequent k-mers (with mismatches and reverse complements) in a string."
   ]
  },
  {
   "cell_type": "code",
   "execution_count": 13,
   "id": "280d835b",
   "metadata": {},
   "outputs": [],
   "source": [
    "def PatternHamming(Text, Pattern, d):\n",
    "    count = 0\n",
    "    positions = []\n",
    "    for i in range(len(Text)-len(Pattern)+1):\n",
    "        if Text[i:i+len(Pattern)] == Pattern:\n",
    "            count = count + 1 \n",
    "            positions.append(i)\n",
    "        elif HammingDist(Text[i:i+len(Pattern)], Pattern) <= d:\n",
    "            count = count + 1\n",
    "            positions.append(i)\n",
    "    string = \"\"\n",
    "    for i in range(len(positions)):\n",
    "        string = string + str(positions[i]) + \" \"\n",
    "    return string"
   ]
  },
  {
   "cell_type": "code",
   "execution_count": 14,
   "id": "9010fd6e",
   "metadata": {},
   "outputs": [],
   "source": [
    "def PatternHammingCount(Text, Pattern, d):\n",
    "    count = 0\n",
    "    positions = []\n",
    "    for i in range(len(Text)-len(Pattern)+1):\n",
    "        if Text[i:i+len(Pattern)] == Pattern:\n",
    "            count = count + 1 \n",
    "            positions.append(i)\n",
    "        elif HammingDist(Text[i:i+len(Pattern)], Pattern) <= d:\n",
    "            count = count + 1\n",
    "            positions.append(i)\n",
    "    string = \"\"\n",
    "    for i in range(len(positions)):\n",
    "        string = string + str(positions[i]) + \" \"\n",
    "    return count"
   ]
  },
  {
   "cell_type": "code",
   "execution_count": 16,
   "id": "5b2ed13f",
   "metadata": {},
   "outputs": [],
   "source": [
    "def Suffix(Text, i):\n",
    "    return Text[i:]"
   ]
  },
  {
   "cell_type": "code",
   "execution_count": 17,
   "id": "5dadd803",
   "metadata": {},
   "outputs": [],
   "source": [
    "def Neighbors(Pattern, d):\n",
    "    if d == 0:\n",
    "        return [Pattern]\n",
    "    if len(Pattern) == 1:\n",
    "        return ['A', 'C', 'G', 'T']\n",
    "    Neighborhood = []\n",
    "    nucleotides = ['A', 'T', 'G', 'C']\n",
    "    SuffixNeighbors = Neighbors(Suffix(Pattern,1), d)\n",
    "    for Text in SuffixNeighbors:\n",
    "        if HammingDist(Suffix(Pattern,1), Text) < d:\n",
    "            for nucleotide in ['A', 'C', 'G', 'T']:\n",
    "                Neighborhood.append(nucleotide + Text)\n",
    "        else:\n",
    "            Neighborhood.append(Pattern[0] + Text)\n",
    "    return Neighborhood"
   ]
  },
  {
   "cell_type": "code",
   "execution_count": 21,
   "id": "0d8921a0",
   "metadata": {},
   "outputs": [],
   "source": [
    "def FrequentWordsWithMismatches(Text, k, d):\n",
    "    Patterns = set()\n",
    "    freqMap = {}\n",
    "    n = len(Text)\n",
    "    for i in range(n-k):\n",
    "        Pattern = Text[i:i+k]\n",
    "        ReverseComp = ReverseComplement(Pattern)\n",
    "        neighborhood = Neighbors(Pattern, d)\n",
    "        for neighbor in neighborhood:\n",
    "            if neighbor not in freqMap:\n",
    "                freqMap[neighbor] = 1\n",
    "            else:\n",
    "                freqMap[neighbor] += 1\n",
    "        neighborhood = Neighbors(ReverseComp,d)\n",
    "        for neighbor in neighborhood:\n",
    "            if neighbor not in freqMap:\n",
    "                freqMap[neighbor] = 1\n",
    "            else:\n",
    "                freqMap[neighbor] += 1\n",
    "    m = max(freqMap.values())\n",
    "    for Pattern, count in freqMap.items():\n",
    "        if count == m:\n",
    "            Patterns.add(Pattern)\n",
    "    return Patterns"
   ]
  },
  {
   "cell_type": "markdown",
   "id": "1534fa7c",
   "metadata": {},
   "source": [
    "Given a sequence of reads, return all (k,d) motifs in the DNA"
   ]
  },
  {
   "cell_type": "code",
   "execution_count": 24,
   "id": "9b794c50",
   "metadata": {},
   "outputs": [],
   "source": [
    "def MotifEnumeration(Dna, k, d):\n",
    "    Patterns = set()\n",
    "    reads = []\n",
    "    s = \"\"\n",
    "    for i in range(len(Dna)+1):\n",
    "        if i == len(Dna):\n",
    "            reads.append(s)\n",
    "        elif Dna[i] == \" \":\n",
    "            reads.append(s)\n",
    "            s = \"\"\n",
    "        else:\n",
    "            s = s + Dna[i]\n",
    "    neighborhood = []\n",
    "    for j in range(len(reads[0])-k+1):\n",
    "        Pattern = reads[0][j:j+k]\n",
    "        neighborhood.append(Pattern)\n",
    "        for m in range(len(Neighbors(Pattern, d))): \n",
    "            neighborhood.append(Neighbors(Pattern, d)[m])\n",
    "    for neighbor in neighborhood:\n",
    "        count = 1\n",
    "        for read in reads:\n",
    "            for r in range(len(read)-k+1):\n",
    "                if HammingDist(neighbor,read[r:r+k]) <= d:\n",
    "                    count = count + 1\n",
    "                    break\n",
    "        if count == len(reads)+1:\n",
    "            Patterns.add(neighbor)\n",
    "    string = \"\"\n",
    "    for items in Patterns:\n",
    "        string = string + str(items) + \" \"\n",
    "    return string"
   ]
  },
  {
   "cell_type": "markdown",
   "id": "8880a7d5",
   "metadata": {},
   "source": [
    "Construct a Trie"
   ]
  },
  {
   "cell_type": "code",
   "execution_count": 25,
   "id": "e25571ce",
   "metadata": {},
   "outputs": [],
   "source": [
    "class TrieNode:\n",
    "    def __init__(self,num):\n",
    "        self.num = num\n",
    "        self.children = {}\n",
    "        self.is_end_of_word = False\n",
    "\n",
    "class Trie:\n",
    "    def __init__(self):\n",
    "        self.root = TrieNode(0)\n",
    "\n",
    "    def insert(self, word):\n",
    "        current_node = self.root\n",
    "        for char in word:\n",
    "            if char not in current_node.children:\n",
    "                current_node.children[char] = TrieNode()\n",
    "            current_node = current_node.children[char]\n",
    "        current_node.is_end_of_word = True\n",
    "\n",
    "def TrieConstruction(patterns):\n",
    "    trie = Trie()\n",
    "    counter = 0\n",
    "    for pattern in patterns:\n",
    "        current_node = trie.root\n",
    "        for char in pattern:\n",
    "            if char in current_node.children:\n",
    "                current_node = current_node.children[char]\n",
    "            else:\n",
    "                counter += 1\n",
    "                new_node = TrieNode(counter)\n",
    "                current_node.children[char] = new_node\n",
    "                current_node = new_node\n",
    "        current_node.is_end_of_word = True\n",
    "    stack = []\n",
    "    stack.append(trie.root)\n",
    "    output = \"\"\n",
    "    while stack: \n",
    "        current_node = stack.pop()\n",
    "        for child in current_node.children.keys():\n",
    "            stack.append(current_node.children[child])\n",
    "            output += f\"{current_node.num} {current_node.children[child].num} {child}\\n\"\n",
    "    pyperclip.copy(output)\n",
    "    return trie"
   ]
  },
  {
   "cell_type": "markdown",
   "id": "c26ee42d",
   "metadata": {},
   "source": [
    "Construct a Burrow Wheeler Tranform and its Inverse"
   ]
  },
  {
   "cell_type": "code",
   "execution_count": 26,
   "id": "75a938b5",
   "metadata": {},
   "outputs": [],
   "source": [
    "def BWT(Text):\n",
    "    rotations = []\n",
    "    for i in range(len(Text)):\n",
    "        string = Text[len(Text)-i:] + Text[:len(Text)-i]\n",
    "        rotations.append(string)\n",
    "    rotations = sorted(rotations)\n",
    "    BWT = \"\"\n",
    "    for items in rotations:\n",
    "        BWT = BWT + items[len(items)-1]\n",
    "    return BWT\n",
    "    "
   ]
  },
  {
   "cell_type": "code",
   "execution_count": 27,
   "id": "63c8e376",
   "metadata": {},
   "outputs": [],
   "source": [
    "def BWT_inverse(s):\n",
    "    string = []\n",
    "    for c in s:\n",
    "        string.append(c)\n",
    "    tmp = string.copy()\n",
    "    tmp.sort()\n",
    "    for i in range(len(s)-1):\n",
    "        for i in range(len(string)):\n",
    "            string[i] += tmp[i][-1]\n",
    "        tmp = string.copy()\n",
    "        tmp.sort()\n",
    "    for item in string:\n",
    "        if item[len(item)-1] == \"$\":\n",
    "            return item"
   ]
  },
  {
   "cell_type": "code",
   "execution_count": null,
   "id": "2d3744dd",
   "metadata": {},
   "outputs": [],
   "source": []
  }
 ],
 "metadata": {
  "kernelspec": {
   "display_name": "Python 3 (ipykernel)",
   "language": "python",
   "name": "python3"
  },
  "language_info": {
   "codemirror_mode": {
    "name": "ipython",
    "version": 3
   },
   "file_extension": ".py",
   "mimetype": "text/x-python",
   "name": "python",
   "nbconvert_exporter": "python",
   "pygments_lexer": "ipython3",
   "version": "3.9.13"
  }
 },
 "nbformat": 4,
 "nbformat_minor": 5
}
